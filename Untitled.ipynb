{
 "cells": [
  {
   "cell_type": "markdown",
   "id": "5c716ced",
   "metadata": {},
   "source": [
    "# Loading data "
   ]
  },
  {
   "cell_type": "code",
   "execution_count": 1,
   "id": "49299a41",
   "metadata": {},
   "outputs": [],
   "source": [
    "\n",
    "import pandas as pd "
   ]
  },
  {
   "cell_type": "code",
   "execution_count": 2,
   "id": "2ebe1ed8",
   "metadata": {},
   "outputs": [
    {
     "data": {
      "text/html": [
       "<div>\n",
       "<style scoped>\n",
       "    .dataframe tbody tr th:only-of-type {\n",
       "        vertical-align: middle;\n",
       "    }\n",
       "\n",
       "    .dataframe tbody tr th {\n",
       "        vertical-align: top;\n",
       "    }\n",
       "\n",
       "    .dataframe thead th {\n",
       "        text-align: right;\n",
       "    }\n",
       "</style>\n",
       "<table border=\"1\" class=\"dataframe\">\n",
       "  <thead>\n",
       "    <tr style=\"text-align: right;\">\n",
       "      <th></th>\n",
       "      <th>PassengerId</th>\n",
       "      <th>Survived</th>\n",
       "      <th>Pclass</th>\n",
       "      <th>Name</th>\n",
       "      <th>Sex</th>\n",
       "      <th>Age</th>\n",
       "      <th>SibSp</th>\n",
       "      <th>Parch</th>\n",
       "      <th>Ticket</th>\n",
       "      <th>Fare</th>\n",
       "      <th>Cabin</th>\n",
       "      <th>Embarked</th>\n",
       "    </tr>\n",
       "  </thead>\n",
       "  <tbody>\n",
       "    <tr>\n",
       "      <th>0</th>\n",
       "      <td>343</td>\n",
       "      <td>No</td>\n",
       "      <td>2</td>\n",
       "      <td>Collander, Mr. Erik Gustaf</td>\n",
       "      <td>male</td>\n",
       "      <td>28.0</td>\n",
       "      <td>0</td>\n",
       "      <td>0</td>\n",
       "      <td>248740</td>\n",
       "      <td>13.0000</td>\n",
       "      <td>NaN</td>\n",
       "      <td>S</td>\n",
       "    </tr>\n",
       "    <tr>\n",
       "      <th>1</th>\n",
       "      <td>76</td>\n",
       "      <td>No</td>\n",
       "      <td>3</td>\n",
       "      <td>Moen, Mr. Sigurd Hansen</td>\n",
       "      <td>male</td>\n",
       "      <td>25.0</td>\n",
       "      <td>0</td>\n",
       "      <td>0</td>\n",
       "      <td>348123</td>\n",
       "      <td>7.6500</td>\n",
       "      <td>F G73</td>\n",
       "      <td>S</td>\n",
       "    </tr>\n",
       "    <tr>\n",
       "      <th>2</th>\n",
       "      <td>641</td>\n",
       "      <td>No</td>\n",
       "      <td>3</td>\n",
       "      <td>Jensen, Mr. Hans Peder</td>\n",
       "      <td>male</td>\n",
       "      <td>20.0</td>\n",
       "      <td>0</td>\n",
       "      <td>0</td>\n",
       "      <td>350050</td>\n",
       "      <td>7.8542</td>\n",
       "      <td>NaN</td>\n",
       "      <td>S</td>\n",
       "    </tr>\n",
       "    <tr>\n",
       "      <th>3</th>\n",
       "      <td>568</td>\n",
       "      <td>No</td>\n",
       "      <td>3</td>\n",
       "      <td>Palsson, Mrs. Nils (Alma Cornelia Berglund)</td>\n",
       "      <td>female</td>\n",
       "      <td>29.0</td>\n",
       "      <td>0</td>\n",
       "      <td>4</td>\n",
       "      <td>349909</td>\n",
       "      <td>21.0750</td>\n",
       "      <td>NaN</td>\n",
       "      <td>S</td>\n",
       "    </tr>\n",
       "    <tr>\n",
       "      <th>4</th>\n",
       "      <td>672</td>\n",
       "      <td>No</td>\n",
       "      <td>1</td>\n",
       "      <td>Davidson, Mr. Thornton</td>\n",
       "      <td>male</td>\n",
       "      <td>31.0</td>\n",
       "      <td>1</td>\n",
       "      <td>0</td>\n",
       "      <td>F.C. 12750</td>\n",
       "      <td>52.0000</td>\n",
       "      <td>B71</td>\n",
       "      <td>S</td>\n",
       "    </tr>\n",
       "    <tr>\n",
       "      <th>...</th>\n",
       "      <td>...</td>\n",
       "      <td>...</td>\n",
       "      <td>...</td>\n",
       "      <td>...</td>\n",
       "      <td>...</td>\n",
       "      <td>...</td>\n",
       "      <td>...</td>\n",
       "      <td>...</td>\n",
       "      <td>...</td>\n",
       "      <td>...</td>\n",
       "      <td>...</td>\n",
       "      <td>...</td>\n",
       "    </tr>\n",
       "    <tr>\n",
       "      <th>886</th>\n",
       "      <td>10</td>\n",
       "      <td>Yes</td>\n",
       "      <td>2</td>\n",
       "      <td>Nasser, Mrs. Nicholas (Adele Achem)</td>\n",
       "      <td>female</td>\n",
       "      <td>14.0</td>\n",
       "      <td>1</td>\n",
       "      <td>0</td>\n",
       "      <td>237736</td>\n",
       "      <td>30.0708</td>\n",
       "      <td>NaN</td>\n",
       "      <td>C</td>\n",
       "    </tr>\n",
       "    <tr>\n",
       "      <th>887</th>\n",
       "      <td>61</td>\n",
       "      <td>No</td>\n",
       "      <td>3</td>\n",
       "      <td>Sirayanian, Mr. Orsen</td>\n",
       "      <td>male</td>\n",
       "      <td>22.0</td>\n",
       "      <td>0</td>\n",
       "      <td>0</td>\n",
       "      <td>2669</td>\n",
       "      <td>7.2292</td>\n",
       "      <td>NaN</td>\n",
       "      <td>C</td>\n",
       "    </tr>\n",
       "    <tr>\n",
       "      <th>888</th>\n",
       "      <td>535</td>\n",
       "      <td>No</td>\n",
       "      <td>3</td>\n",
       "      <td>Cacic, Miss. Marija</td>\n",
       "      <td>female</td>\n",
       "      <td>30.0</td>\n",
       "      <td>0</td>\n",
       "      <td>0</td>\n",
       "      <td>315084</td>\n",
       "      <td>8.6625</td>\n",
       "      <td>NaN</td>\n",
       "      <td>S</td>\n",
       "    </tr>\n",
       "    <tr>\n",
       "      <th>889</th>\n",
       "      <td>102</td>\n",
       "      <td>No</td>\n",
       "      <td>3</td>\n",
       "      <td>Petroff, Mr. Pastcho (\"Pentcho\")</td>\n",
       "      <td>male</td>\n",
       "      <td>NaN</td>\n",
       "      <td>0</td>\n",
       "      <td>0</td>\n",
       "      <td>349215</td>\n",
       "      <td>7.8958</td>\n",
       "      <td>NaN</td>\n",
       "      <td>S</td>\n",
       "    </tr>\n",
       "    <tr>\n",
       "      <th>890</th>\n",
       "      <td>428</td>\n",
       "      <td>Yes</td>\n",
       "      <td>2</td>\n",
       "      <td>Phillips, Miss. Kate Florence (\"Mrs Kate Louis...</td>\n",
       "      <td>female</td>\n",
       "      <td>19.0</td>\n",
       "      <td>0</td>\n",
       "      <td>0</td>\n",
       "      <td>250655</td>\n",
       "      <td>26.0000</td>\n",
       "      <td>NaN</td>\n",
       "      <td>S</td>\n",
       "    </tr>\n",
       "  </tbody>\n",
       "</table>\n",
       "<p>891 rows × 12 columns</p>\n",
       "</div>"
      ],
      "text/plain": [
       "     PassengerId Survived  Pclass  \\\n",
       "0            343       No       2   \n",
       "1             76       No       3   \n",
       "2            641       No       3   \n",
       "3            568       No       3   \n",
       "4            672       No       1   \n",
       "..           ...      ...     ...   \n",
       "886           10      Yes       2   \n",
       "887           61       No       3   \n",
       "888          535       No       3   \n",
       "889          102       No       3   \n",
       "890          428      Yes       2   \n",
       "\n",
       "                                                  Name     Sex   Age  SibSp  \\\n",
       "0                           Collander, Mr. Erik Gustaf    male  28.0      0   \n",
       "1                              Moen, Mr. Sigurd Hansen    male  25.0      0   \n",
       "2                               Jensen, Mr. Hans Peder    male  20.0      0   \n",
       "3          Palsson, Mrs. Nils (Alma Cornelia Berglund)  female  29.0      0   \n",
       "4                               Davidson, Mr. Thornton    male  31.0      1   \n",
       "..                                                 ...     ...   ...    ...   \n",
       "886                Nasser, Mrs. Nicholas (Adele Achem)  female  14.0      1   \n",
       "887                              Sirayanian, Mr. Orsen    male  22.0      0   \n",
       "888                                Cacic, Miss. Marija  female  30.0      0   \n",
       "889                   Petroff, Mr. Pastcho (\"Pentcho\")    male   NaN      0   \n",
       "890  Phillips, Miss. Kate Florence (\"Mrs Kate Louis...  female  19.0      0   \n",
       "\n",
       "     Parch      Ticket     Fare  Cabin Embarked  \n",
       "0        0      248740  13.0000    NaN        S  \n",
       "1        0      348123   7.6500  F G73        S  \n",
       "2        0      350050   7.8542    NaN        S  \n",
       "3        4      349909  21.0750    NaN        S  \n",
       "4        0  F.C. 12750  52.0000    B71        S  \n",
       "..     ...         ...      ...    ...      ...  \n",
       "886      0      237736  30.0708    NaN        C  \n",
       "887      0        2669   7.2292    NaN        C  \n",
       "888      0      315084   8.6625    NaN        S  \n",
       "889      0      349215   7.8958    NaN        S  \n",
       "890      0      250655  26.0000    NaN        S  \n",
       "\n",
       "[891 rows x 12 columns]"
      ]
     },
     "execution_count": 2,
     "metadata": {},
     "output_type": "execute_result"
    }
   ],
   "source": [
    "df = pd.read_csv('titanic-passengers.csv', delimiter=';')\n",
    "df"
   ]
  },
  {
   "cell_type": "markdown",
   "id": "b3fc669e",
   "metadata": {},
   "source": [
    "It seems like we need a preprocessing phase since our data needs some cleaning"
   ]
  },
  {
   "cell_type": "markdown",
   "id": "af4a7b92",
   "metadata": {},
   "source": [
    "# Preprocessing phase"
   ]
  },
  {
   "cell_type": "markdown",
   "id": "3ec946a9",
   "metadata": {},
   "source": [
    "### Checking NaN values"
   ]
  },
  {
   "cell_type": "code",
   "execution_count": 3,
   "id": "80e0f347",
   "metadata": {},
   "outputs": [
    {
     "data": {
      "text/plain": [
       "PassengerId      0\n",
       "Survived         0\n",
       "Pclass           0\n",
       "Name             0\n",
       "Sex              0\n",
       "Age            177\n",
       "SibSp            0\n",
       "Parch            0\n",
       "Ticket           0\n",
       "Fare             0\n",
       "Cabin          687\n",
       "Embarked         2\n",
       "dtype: int64"
      ]
     },
     "execution_count": 3,
     "metadata": {},
     "output_type": "execute_result"
    }
   ],
   "source": [
    "df.isnull().sum()"
   ]
  },
  {
   "cell_type": "markdown",
   "id": "65e0da7f",
   "metadata": {},
   "source": [
    "### Replacing NaN values and dropping useless columns"
   ]
  },
  {
   "cell_type": "code",
   "execution_count": 4,
   "id": "3beddf58",
   "metadata": {},
   "outputs": [],
   "source": [
    "df['Age'].fillna(df['Age'].mean(), inplace = True)\n",
    "df['Age'] = df['Age'].astype(int)\n",
    "df['embarked'] = df.Embarked.fillna('S')\n",
    "df = df.dropna(axis=1, how='any')"
   ]
  },
  {
   "cell_type": "markdown",
   "id": "0d587d27",
   "metadata": {},
   "source": [
    "### Adding new column based on title"
   ]
  },
  {
   "cell_type": "code",
   "execution_count": 5,
   "id": "600b8f16",
   "metadata": {},
   "outputs": [],
   "source": [
    "Title_Dictionary = {\"Capt\":       \"Officer\",\n",
    "\n",
    "                    \"Col\":        \"Officer\",\n",
    "\n",
    "                    \"Major\":      \"Officer\",\n",
    "\n",
    "                      \"Dr\":         \"Officer\",\n",
    "\n",
    "                    \"Rev\":        \"Officer\",\n",
    "\n",
    "                    \"Jonkheer\":   \"Royalty\",\n",
    "\n",
    "                    \"Don\":        \"Royalty\",\n",
    "\n",
    "                    \"Sir\" :       \"Royalty\",\n",
    "\n",
    "                   \"Lady\" :      \"Royalty\",\n",
    "\n",
    "                  \"the Countess\" : \"Royalty\",\n",
    "\n",
    "                    \"Dona\":       \"Royalty\",\n",
    "\n",
    "                    \"Mme\":        \"Miss\",\n",
    "\n",
    "                    \"Mlle\":       \"Miss\",\n",
    "\n",
    "                    \"Miss\" :      \"Miss\",\n",
    "\n",
    "                    \"Ms\":         \"Mrs\",\n",
    "\n",
    "                    \"Mr\" :        \"Mrs\",\n",
    "\n",
    "                    \"Mrs\" :       \"Mrs\",\n",
    "\n",
    "                    \"Master\" :    \"Master\"\n",
    "\n",
    "                    }"
   ]
  },
  {
   "cell_type": "code",
   "execution_count": 6,
   "id": "01d2404b",
   "metadata": {},
   "outputs": [
    {
     "name": "stderr",
     "output_type": "stream",
     "text": [
      "<ipython-input-6-b7a09c990a79>:8: SettingWithCopyWarning: \n",
      "A value is trying to be set on a copy of a slice from a DataFrame.\n",
      "Try using .loc[row_indexer,col_indexer] = value instead\n",
      "\n",
      "See the caveats in the documentation: https://pandas.pydata.org/pandas-docs/stable/user_guide/indexing.html#returning-a-view-versus-a-copy\n",
      "  df['title'] = Titles\n",
      "C:\\Users\\Ahmed Ben Boubaker\\anaconda3\\lib\\site-packages\\pandas\\core\\frame.py:4308: SettingWithCopyWarning: \n",
      "A value is trying to be set on a copy of a slice from a DataFrame\n",
      "\n",
      "See the caveats in the documentation: https://pandas.pydata.org/pandas-docs/stable/user_guide/indexing.html#returning-a-view-versus-a-copy\n",
      "  return super().drop(\n"
     ]
    }
   ],
   "source": [
    "Titles = []\n",
    "Title_Dictionary_list = ['Capt', 'Col', 'Major', 'Dr', 'Rev', 'Jonkheer', 'Don', 'Sir', 'Lady', 'the Countess', 'Dona', 'Mme', 'Mlle', 'Miss', 'Ms', 'Mr', 'Mrs', 'Master']\n",
    "for i in range(len(df['Name'])):\n",
    "    for j in range(len(Title_Dictionary)):\n",
    "        if  Title_Dictionary_list[j] in df['Name'][i]:\n",
    "            Titles.append(Title_Dictionary[Title_Dictionary_list[j]])\n",
    "            break\n",
    "df['title'] = Titles \n",
    "df.drop(columns=['Name'],inplace=True)"
   ]
  },
  {
   "cell_type": "code",
   "execution_count": 7,
   "id": "002d68d2",
   "metadata": {},
   "outputs": [
    {
     "name": "stdout",
     "output_type": "stream",
     "text": [
      "<class 'pandas.core.frame.DataFrame'>\n",
      "RangeIndex: 891 entries, 0 to 890\n",
      "Data columns (total 11 columns):\n",
      " #   Column       Non-Null Count  Dtype  \n",
      "---  ------       --------------  -----  \n",
      " 0   PassengerId  891 non-null    int64  \n",
      " 1   Survived     891 non-null    object \n",
      " 2   Pclass       891 non-null    int64  \n",
      " 3   Sex          891 non-null    object \n",
      " 4   Age          891 non-null    int32  \n",
      " 5   SibSp        891 non-null    int64  \n",
      " 6   Parch        891 non-null    int64  \n",
      " 7   Ticket       891 non-null    object \n",
      " 8   Fare         891 non-null    float64\n",
      " 9   embarked     891 non-null    object \n",
      " 10  title        891 non-null    object \n",
      "dtypes: float64(1), int32(1), int64(4), object(5)\n",
      "memory usage: 73.2+ KB\n"
     ]
    }
   ],
   "source": [
    "df.info()"
   ]
  },
  {
   "cell_type": "markdown",
   "id": "e27893e9",
   "metadata": {},
   "source": [
    "### Logistic Regression Data Preparation"
   ]
  },
  {
   "cell_type": "code",
   "execution_count": 8,
   "id": "6d6614d8",
   "metadata": {
    "scrolled": true
   },
   "outputs": [
    {
     "name": "stderr",
     "output_type": "stream",
     "text": [
      "<ipython-input-8-9ed09c305245>:5: SettingWithCopyWarning: \n",
      "A value is trying to be set on a copy of a slice from a DataFrame.\n",
      "Try using .loc[row_indexer,col_indexer] = value instead\n",
      "\n",
      "See the caveats in the documentation: https://pandas.pydata.org/pandas-docs/stable/user_guide/indexing.html#returning-a-view-versus-a-copy\n",
      "  df[\"Survived\"] = df[\"Survived\"].astype(str)\n",
      "<ipython-input-8-9ed09c305245>:6: SettingWithCopyWarning: \n",
      "A value is trying to be set on a copy of a slice from a DataFrame.\n",
      "Try using .loc[row_indexer,col_indexer] = value instead\n",
      "\n",
      "See the caveats in the documentation: https://pandas.pydata.org/pandas-docs/stable/user_guide/indexing.html#returning-a-view-versus-a-copy\n",
      "  df[\"Survived\"] = df[\"Survived\"].map({\"Yes\": 1, \"No\": 0})\n",
      "<ipython-input-8-9ed09c305245>:8: SettingWithCopyWarning: \n",
      "A value is trying to be set on a copy of a slice from a DataFrame.\n",
      "Try using .loc[row_indexer,col_indexer] = value instead\n",
      "\n",
      "See the caveats in the documentation: https://pandas.pydata.org/pandas-docs/stable/user_guide/indexing.html#returning-a-view-versus-a-copy\n",
      "  df[\"Sex\"] = df[\"Sex\"].astype(str)\n",
      "<ipython-input-8-9ed09c305245>:9: SettingWithCopyWarning: \n",
      "A value is trying to be set on a copy of a slice from a DataFrame.\n",
      "Try using .loc[row_indexer,col_indexer] = value instead\n",
      "\n",
      "See the caveats in the documentation: https://pandas.pydata.org/pandas-docs/stable/user_guide/indexing.html#returning-a-view-versus-a-copy\n",
      "  df[\"Sex\"] = df[\"Sex\"].map({\"male\": 1, \"female\": 0})\n",
      "<ipython-input-8-9ed09c305245>:11: SettingWithCopyWarning: \n",
      "A value is trying to be set on a copy of a slice from a DataFrame.\n",
      "Try using .loc[row_indexer,col_indexer] = value instead\n",
      "\n",
      "See the caveats in the documentation: https://pandas.pydata.org/pandas-docs/stable/user_guide/indexing.html#returning-a-view-versus-a-copy\n",
      "  df[\"embarked\"] = df[\"embarked\"].astype(str)\n",
      "<ipython-input-8-9ed09c305245>:12: SettingWithCopyWarning: \n",
      "A value is trying to be set on a copy of a slice from a DataFrame.\n",
      "Try using .loc[row_indexer,col_indexer] = value instead\n",
      "\n",
      "See the caveats in the documentation: https://pandas.pydata.org/pandas-docs/stable/user_guide/indexing.html#returning-a-view-versus-a-copy\n",
      "  df[\"embarked\"] = df[\"embarked\"].map({\"Q\": 1, \"S\": 0, \"C\": 2}) #convert Sex variable into numerical\n",
      "<ipython-input-8-9ed09c305245>:14: SettingWithCopyWarning: \n",
      "A value is trying to be set on a copy of a slice from a DataFrame.\n",
      "Try using .loc[row_indexer,col_indexer] = value instead\n",
      "\n",
      "See the caveats in the documentation: https://pandas.pydata.org/pandas-docs/stable/user_guide/indexing.html#returning-a-view-versus-a-copy\n",
      "  df['title'] = encoder.fit_transform(df['title'])\n"
     ]
    }
   ],
   "source": [
    "from sklearn.preprocessing import LabelEncoder\n",
    "#Using the label encoder function in the sklearn library.\n",
    "encoder=LabelEncoder()\n",
    "#preparing data for logistic regression\n",
    "df[\"Survived\"] = df[\"Survived\"].astype(str)\n",
    "df[\"Survived\"] = df[\"Survived\"].map({\"Yes\": 1, \"No\": 0}) \n",
    "\n",
    "df[\"Sex\"] = df[\"Sex\"].astype(str)\n",
    "df[\"Sex\"] = df[\"Sex\"].map({\"male\": 1, \"female\": 0})\n",
    "\n",
    "df[\"embarked\"] = df[\"embarked\"].astype(str)\n",
    "df[\"embarked\"] = df[\"embarked\"].map({\"Q\": 1, \"S\": 0, \"C\": 2}) #convert Sex variable into numerical\n",
    "\n",
    "df['title'] = encoder.fit_transform(df['title'])"
   ]
  },
  {
   "cell_type": "code",
   "execution_count": 9,
   "id": "0f871e1d",
   "metadata": {},
   "outputs": [
    {
     "data": {
      "text/html": [
       "<div>\n",
       "<style scoped>\n",
       "    .dataframe tbody tr th:only-of-type {\n",
       "        vertical-align: middle;\n",
       "    }\n",
       "\n",
       "    .dataframe tbody tr th {\n",
       "        vertical-align: top;\n",
       "    }\n",
       "\n",
       "    .dataframe thead th {\n",
       "        text-align: right;\n",
       "    }\n",
       "</style>\n",
       "<table border=\"1\" class=\"dataframe\">\n",
       "  <thead>\n",
       "    <tr style=\"text-align: right;\">\n",
       "      <th></th>\n",
       "      <th>PassengerId</th>\n",
       "      <th>Survived</th>\n",
       "      <th>Pclass</th>\n",
       "      <th>Sex</th>\n",
       "      <th>Age</th>\n",
       "      <th>SibSp</th>\n",
       "      <th>Parch</th>\n",
       "      <th>Ticket</th>\n",
       "      <th>Fare</th>\n",
       "      <th>embarked</th>\n",
       "      <th>title</th>\n",
       "    </tr>\n",
       "  </thead>\n",
       "  <tbody>\n",
       "    <tr>\n",
       "      <th>0</th>\n",
       "      <td>343</td>\n",
       "      <td>0</td>\n",
       "      <td>2</td>\n",
       "      <td>1</td>\n",
       "      <td>28</td>\n",
       "      <td>0</td>\n",
       "      <td>0</td>\n",
       "      <td>248740</td>\n",
       "      <td>13.0000</td>\n",
       "      <td>0</td>\n",
       "      <td>3</td>\n",
       "    </tr>\n",
       "    <tr>\n",
       "      <th>1</th>\n",
       "      <td>76</td>\n",
       "      <td>0</td>\n",
       "      <td>3</td>\n",
       "      <td>1</td>\n",
       "      <td>25</td>\n",
       "      <td>0</td>\n",
       "      <td>0</td>\n",
       "      <td>348123</td>\n",
       "      <td>7.6500</td>\n",
       "      <td>0</td>\n",
       "      <td>2</td>\n",
       "    </tr>\n",
       "    <tr>\n",
       "      <th>2</th>\n",
       "      <td>641</td>\n",
       "      <td>0</td>\n",
       "      <td>3</td>\n",
       "      <td>1</td>\n",
       "      <td>20</td>\n",
       "      <td>0</td>\n",
       "      <td>0</td>\n",
       "      <td>350050</td>\n",
       "      <td>7.8542</td>\n",
       "      <td>0</td>\n",
       "      <td>2</td>\n",
       "    </tr>\n",
       "    <tr>\n",
       "      <th>3</th>\n",
       "      <td>568</td>\n",
       "      <td>0</td>\n",
       "      <td>3</td>\n",
       "      <td>0</td>\n",
       "      <td>29</td>\n",
       "      <td>0</td>\n",
       "      <td>4</td>\n",
       "      <td>349909</td>\n",
       "      <td>21.0750</td>\n",
       "      <td>0</td>\n",
       "      <td>2</td>\n",
       "    </tr>\n",
       "    <tr>\n",
       "      <th>4</th>\n",
       "      <td>672</td>\n",
       "      <td>0</td>\n",
       "      <td>1</td>\n",
       "      <td>1</td>\n",
       "      <td>31</td>\n",
       "      <td>1</td>\n",
       "      <td>0</td>\n",
       "      <td>F.C. 12750</td>\n",
       "      <td>52.0000</td>\n",
       "      <td>0</td>\n",
       "      <td>2</td>\n",
       "    </tr>\n",
       "    <tr>\n",
       "      <th>...</th>\n",
       "      <td>...</td>\n",
       "      <td>...</td>\n",
       "      <td>...</td>\n",
       "      <td>...</td>\n",
       "      <td>...</td>\n",
       "      <td>...</td>\n",
       "      <td>...</td>\n",
       "      <td>...</td>\n",
       "      <td>...</td>\n",
       "      <td>...</td>\n",
       "      <td>...</td>\n",
       "    </tr>\n",
       "    <tr>\n",
       "      <th>886</th>\n",
       "      <td>10</td>\n",
       "      <td>1</td>\n",
       "      <td>2</td>\n",
       "      <td>0</td>\n",
       "      <td>14</td>\n",
       "      <td>1</td>\n",
       "      <td>0</td>\n",
       "      <td>237736</td>\n",
       "      <td>30.0708</td>\n",
       "      <td>2</td>\n",
       "      <td>2</td>\n",
       "    </tr>\n",
       "    <tr>\n",
       "      <th>887</th>\n",
       "      <td>61</td>\n",
       "      <td>0</td>\n",
       "      <td>3</td>\n",
       "      <td>1</td>\n",
       "      <td>22</td>\n",
       "      <td>0</td>\n",
       "      <td>0</td>\n",
       "      <td>2669</td>\n",
       "      <td>7.2292</td>\n",
       "      <td>2</td>\n",
       "      <td>4</td>\n",
       "    </tr>\n",
       "    <tr>\n",
       "      <th>888</th>\n",
       "      <td>535</td>\n",
       "      <td>0</td>\n",
       "      <td>3</td>\n",
       "      <td>0</td>\n",
       "      <td>30</td>\n",
       "      <td>0</td>\n",
       "      <td>0</td>\n",
       "      <td>315084</td>\n",
       "      <td>8.6625</td>\n",
       "      <td>0</td>\n",
       "      <td>1</td>\n",
       "    </tr>\n",
       "    <tr>\n",
       "      <th>889</th>\n",
       "      <td>102</td>\n",
       "      <td>0</td>\n",
       "      <td>3</td>\n",
       "      <td>1</td>\n",
       "      <td>29</td>\n",
       "      <td>0</td>\n",
       "      <td>0</td>\n",
       "      <td>349215</td>\n",
       "      <td>7.8958</td>\n",
       "      <td>0</td>\n",
       "      <td>2</td>\n",
       "    </tr>\n",
       "    <tr>\n",
       "      <th>890</th>\n",
       "      <td>428</td>\n",
       "      <td>1</td>\n",
       "      <td>2</td>\n",
       "      <td>0</td>\n",
       "      <td>19</td>\n",
       "      <td>0</td>\n",
       "      <td>0</td>\n",
       "      <td>250655</td>\n",
       "      <td>26.0000</td>\n",
       "      <td>0</td>\n",
       "      <td>1</td>\n",
       "    </tr>\n",
       "  </tbody>\n",
       "</table>\n",
       "<p>891 rows × 11 columns</p>\n",
       "</div>"
      ],
      "text/plain": [
       "     PassengerId  Survived  Pclass  Sex  Age  SibSp  Parch      Ticket  \\\n",
       "0            343         0       2    1   28      0      0      248740   \n",
       "1             76         0       3    1   25      0      0      348123   \n",
       "2            641         0       3    1   20      0      0      350050   \n",
       "3            568         0       3    0   29      0      4      349909   \n",
       "4            672         0       1    1   31      1      0  F.C. 12750   \n",
       "..           ...       ...     ...  ...  ...    ...    ...         ...   \n",
       "886           10         1       2    0   14      1      0      237736   \n",
       "887           61         0       3    1   22      0      0        2669   \n",
       "888          535         0       3    0   30      0      0      315084   \n",
       "889          102         0       3    1   29      0      0      349215   \n",
       "890          428         1       2    0   19      0      0      250655   \n",
       "\n",
       "        Fare  embarked  title  \n",
       "0    13.0000         0      3  \n",
       "1     7.6500         0      2  \n",
       "2     7.8542         0      2  \n",
       "3    21.0750         0      2  \n",
       "4    52.0000         0      2  \n",
       "..       ...       ...    ...  \n",
       "886  30.0708         2      2  \n",
       "887   7.2292         2      4  \n",
       "888   8.6625         0      1  \n",
       "889   7.8958         0      2  \n",
       "890  26.0000         0      1  \n",
       "\n",
       "[891 rows x 11 columns]"
      ]
     },
     "execution_count": 9,
     "metadata": {},
     "output_type": "execute_result"
    }
   ],
   "source": [
    "df"
   ]
  },
  {
   "cell_type": "markdown",
   "id": "6cb7c7fe",
   "metadata": {},
   "source": [
    "# Logistic Regression"
   ]
  },
  {
   "cell_type": "code",
   "execution_count": 16,
   "id": "6cfb0fd8",
   "metadata": {},
   "outputs": [
    {
     "name": "stdout",
     "output_type": "stream",
     "text": [
      "Accuracy=0.82\n"
     ]
    },
    {
     "name": "stderr",
     "output_type": "stream",
     "text": [
      "C:\\Users\\Ahmed Ben Boubaker\\anaconda3\\lib\\site-packages\\sklearn\\linear_model\\_logistic.py:763: ConvergenceWarning: lbfgs failed to converge (status=1):\n",
      "STOP: TOTAL NO. of ITERATIONS REACHED LIMIT.\n",
      "\n",
      "Increase the number of iterations (max_iter) or scale the data as shown in:\n",
      "    https://scikit-learn.org/stable/modules/preprocessing.html\n",
      "Please also refer to the documentation for alternative solver options:\n",
      "    https://scikit-learn.org/stable/modules/linear_model.html#logistic-regression\n",
      "  n_iter_i = _check_optimize_result(\n"
     ]
    }
   ],
   "source": [
    "#import relevant libraries\n",
    "from sklearn.model_selection import train_test_split\n",
    "from sklearn.linear_model import LogisticRegression\n",
    "from sklearn import metrics\n",
    "\n",
    "#features extraction\n",
    "x = df[['Pclass', 'Sex','Age', 'SibSp', 'Parch', 'Fare', 'embarked', 'title']]\n",
    "y = df['Survived']\n",
    "\n",
    "x_train,x_test,y_train,y_test = train_test_split(x,y,test_size=0.25,random_state=0)  #splitting data with test size of 25%\n",
    "\n",
    "logreg = LogisticRegression()   #build our logistic model\n",
    "logreg.fit(x_train, y_train)  #fitting training data\n",
    "y_pred  = logreg.predict(x_test)    #testing model’s performance\n",
    "print(\"Accuracy={:.2f}\".format(logreg.score(x_test, y_test)))"
   ]
  },
  {
   "cell_type": "markdown",
   "id": "c2955ade",
   "metadata": {},
   "source": [
    "As we can see here the Accuracy of this model is good"
   ]
  },
  {
   "cell_type": "code",
   "execution_count": 17,
   "id": "44672373",
   "metadata": {},
   "outputs": [
    {
     "data": {
      "text/plain": [
       "<AxesSubplot:xlabel='Age', ylabel='Survived'>"
      ]
     },
     "execution_count": 17,
     "metadata": {},
     "output_type": "execute_result"
    },
    {
     "data": {
      "image/png": "[encoded data removed]",
      "text/plain": [
       "<Figure size 432x288 with 1 Axes>"
      ]
     },
     "metadata": {
      "needs_background": "light"
     },
     "output_type": "display_data"
    }
   ],
   "source": [
    "import seaborn as sns\n",
    "sns.regplot(x='Age',y='Survived',data=df)"
   ]
  },
  {
   "cell_type": "markdown",
   "id": "39280251",
   "metadata": {},
   "source": [
    "### Confusion Matrix"
   ]
  },
  {
   "cell_type": "code",
   "execution_count": 18,
   "id": "32979a28",
   "metadata": {},
   "outputs": [
    {
     "data": {
      "text/plain": [
       "<AxesSubplot:xlabel='Predicted', ylabel='Actual'>"
      ]
     },
     "execution_count": 18,
     "metadata": {},
     "output_type": "execute_result"
    },
    {
     "data": {
      "image/png": "[encoded data removed]",
      "text/plain": [
       "<Figure size 432x288 with 2 Axes>"
      ]
     },
     "metadata": {
      "needs_background": "light"
     },
     "output_type": "display_data"
    }
   ],
   "source": [
    "confusion_matrix = pd.crosstab(y_test, y_pred, rownames=['Actual'], colnames=['Predicted'])\n",
    "sns.heatmap(confusion_matrix, annot=True)"
   ]
  },
  {
   "cell_type": "code",
   "execution_count": 13,
   "id": "6ee5907e",
   "metadata": {},
   "outputs": [
    {
     "name": "stdout",
     "output_type": "stream",
     "text": [
      "              precision    recall  f1-score   support\n",
      "\n",
      "           0       0.84      0.89      0.86       144\n",
      "           1       0.77      0.68      0.72        79\n",
      "\n",
      "    accuracy                           0.82       223\n",
      "   macro avg       0.80      0.79      0.79       223\n",
      "weighted avg       0.81      0.82      0.81       223\n",
      "\n"
     ]
    }
   ],
   "source": [
    "from sklearn.metrics import classification_report\n",
    "print(classification_report(y_test,y_pred))"
   ]
  },
  {
   "cell_type": "markdown",
   "id": "987c955f",
   "metadata": {},
   "source": [
    "This Confusion Matrix shows us the relation between actual and predected data \n",
    "By the true-positive or false-positive etc .. methode \n",
    "as we can see here clearly that the true negatives are high compared to false negatives\n",
    "and it's the same for the true positives and false positives.\n",
    "To see more clearly we may need to use the ROC / AUC Curve"
   ]
  },
  {
   "cell_type": "markdown",
   "id": "c640c58d",
   "metadata": {},
   "source": [
    "AUC - ROC curve is a performance measurement for the classification\n",
    "problems at various threshold settings.  It tells how much the model is capable of distinguishing \n",
    "between classes. Higher the AUC, the better the model is at predicting 0 classes as 0 and 1 classes as 1\n"
   ]
  },
  {
   "cell_type": "markdown",
   "id": "82388a9c",
   "metadata": {},
   "source": [
    "### Plot ROC "
   ]
  },
  {
   "cell_type": "code",
   "execution_count": 15,
   "id": "3b3d3c5f",
   "metadata": {},
   "outputs": [
    {
     "data": {
      "image/png": "[encoded data removed]",
      "text/plain": [
       "<Figure size 500x500 with 1 Axes>"
      ]
     },
     "metadata": {
      "needs_background": "light"
     },
     "output_type": "display_data"
    }
   ],
   "source": [
    "from sklearn.metrics import roc_curve, auc\n",
    "import matplotlib.pyplot as plt\n",
    "\n",
    "logistic_fpr, logistic_tpr, threshold = roc_curve(y_test, y_pred)\n",
    "auc_logistic = auc(logistic_fpr, logistic_tpr)\n",
    "\n",
    "\n",
    "plt.figure(figsize=(5, 5), dpi=100)\n",
    "plt.plot(logistic_fpr, logistic_tpr, marker='.', label='Logistic (auc = %0.3f)' % auc_logistic)\n",
    "\n",
    "plt.xlabel('False Positive Rate -->')\n",
    "plt.ylabel('True Positive Rate -->')\n",
    "\n",
    "plt.legend()\n",
    "\n",
    "plt.show()"
   ]
  },
  {
   "cell_type": "code",
   "execution_count": null,
   "id": "1cb77e3d",
   "metadata": {},
   "outputs": [],
   "source": []
  }
 ],
 "metadata": {
  "kernelspec": {
   "display_name": "Python 3",
   "language": "python",
   "name": "python3"
  },
  "language_info": {
   "codemirror_mode": {
    "name": "ipython",
    "version": 3
   },
   "file_extension": ".py",
   "mimetype": "text/x-python",
   "name": "python",
   "nbconvert_exporter": "python",
   "pygments_lexer": "ipython3",
   "version": "3.8.8"
  }
 },
 "nbformat": 4,
 "nbformat_minor": 5
}
